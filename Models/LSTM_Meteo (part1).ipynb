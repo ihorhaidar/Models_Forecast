{
 "cells": [
  {
   "cell_type": "markdown",
   "metadata": {},
   "source": [
    "# Імпорт бібілотек"
   ]
  },
  {
   "cell_type": "code",
   "execution_count": null,
   "metadata": {},
   "outputs": [],
   "source": [
    "\n",
    "# !pip install pandas\n",
    "# !pip install numpy\n",
    "# !pip install tensorflow\n",
    "# !pip install setuptools\n",
    "# !pip install keras\n",
    "# !pip install keras-tuner\n",
    "# !pip install seaborn\n",
    "# !pip install matplotlib\n",
    "# !pip install scikit-learn\n",
    "# !pip install scipy\n",
    "# !pip install statsmodels\n",
    "# !pip install pvlib\n",
    "# !pip install xgboost\n",
    "# !pip install ipython"
   ]
  },
  {
   "cell_type": "code",
   "execution_count": null,
   "metadata": {},
   "outputs": [],
   "source": [
    "import math\n",
    "import pandas as pd\n",
    "import numpy as np\n",
    "import seaborn as sns\n",
    "import tensorflow as tf\n",
    "import matplotlib.pyplot as plt\n",
    "\n",
    "from tensorflow.keras.models import Sequential\n",
    "from tensorflow.keras.callbacks import EarlyStopping\n",
    "from tensorflow.keras.layers import LSTM, Dropout, BatchNormalization, Dense, Input, Conv1D, MaxPooling1D, Reshape, GRU, Bidirectional\n",
    "from keras.layers import MultiHeadAttention, Dense, Flatten\n",
    "from tensorflow.keras.models import Model\n",
    "from tensorflow.keras.regularizers import l2\n",
    "from sklearn.metrics import r2_score, explained_variance_score, mean_squared_log_error, mean_squared_error, mean_absolute_percentage_error, mean_absolute_error\n",
    "\n",
    "from scipy.stats import pearsonr\n",
    "from sklearn.preprocessing import MinMaxScaler, StandardScaler\n",
    "\n",
    "from statsmodels.graphics.tsaplots import plot_acf\n",
    "from sklearn.metrics import mean_absolute_percentage_error\n",
    "\n",
    "from pandas.plotting import scatter_matrix\n",
    "from IPython.display import display\n",
    "import pvlib\n",
    "\n",
    "import logging\n",
    "logger = logging.getLogger(__name__)\n"
   ]
  },
  {
   "cell_type": "markdown",
   "metadata": {},
   "source": [
    "# Завантаження даних"
   ]
  },
  {
   "cell_type": "code",
   "execution_count": null,
   "metadata": {},
   "outputs": [],
   "source": [
    "data_name_predict = 'Glyniany-1_OpenMeteo_Data'\n",
    "data_name_actual = 'Glyniany-1_Nordik_Data'\n",
    "power_max = 7153 # максимальна потужність станції\n",
    "latitude = 49.308290\n",
    "longitude = 23.430082\n",
    "\n",
    "# data_name = 'Glyniany-1_OpenMeteo_Data'\n",
    "# power_max = 2976\n",
    "# latitude = 49.826009\n",
    "# longitude = 24.476087\n",
    "\n",
    "# data_name = 'Glyniany-2_OpenMeteo_Data'\n",
    "# power_max = 15442\n",
    "# latitude = 49.826411\n",
    "# longitude = 24.488083\n",
    "\n",
    "# data_name = 'Yavoriv_OpenMeteo_Data'\n",
    "# power_max = 59234\n",
    "# latitude = 49.935239\n",
    "# longitude = 23.505527\n",
    "\n",
    "data_period = 15 # періодичність даних\n",
    "\n",
    "drop_invalid_values = True # видалення недійсних значень\n",
    "\n",
    "datetime_start = pd.to_datetime('2024-09-21 00:00:00')\n",
    "datetime_end = pd.to_datetime('2024-11-24 23:59:59')\n",
    "\n",
    "hour_start = 0\n",
    "hour_end = 23\n",
    "\n",
    "time_steps = 1\n",
    "train_percent = 0.2\n",
    "power_min_limit = 0.01\n",
    "\n",
    "model_tunning = False\n",
    "\n",
    "MODEL_DATA_PATH = 'model_data'\n",
    "\n",
    "models_metrics = { }"
   ]
  },
  {
   "cell_type": "code",
   "execution_count": null,
   "metadata": {},
   "outputs": [],
   "source": [
    "# Завантаження даних\n",
    "df_predict = pd.read_csv(f'../Data/{data_name_predict}.csv', sep=',', comment='#', low_memory=False)\n",
    "df_predict = df_predict.rename(columns={col: f\"{col}_predict\" for col in df_predict.columns if col not in ['datetime', 'power_actual', 'limitation_actual']})\n",
    "\n",
    "df_actual = pd.read_csv(f'../Data/{data_name_actual}.csv', sep=',', comment='#', low_memory=False)\n",
    "df_actual = df_actual.rename(columns={col: f\"{col}_actual\" for col in df_actual.columns if col not in ['datetime', 'power_actual', 'limitation_actual']})\n",
    "\n",
    "df = pd.DataFrame()\n",
    "df = pd.merge(df_actual, df_predict, on='datetime', how='outer', suffixes=('_actual', '_predict'))\n",
    "df['power_predict'] = 0\n",
    "df.drop(['limitation_predict'], inplace=True, axis=1)\n",
    "\n",
    "df.columns"
   ]
  },
  {
   "cell_type": "code",
   "execution_count": null,
   "metadata": {},
   "outputs": [],
   "source": [
    "df"
   ]
  },
  {
   "cell_type": "markdown",
   "metadata": {},
   "source": [
    "# Статистична інформація"
   ]
  },
  {
   "cell_type": "code",
   "execution_count": null,
   "metadata": {},
   "outputs": [],
   "source": [
    "df.info()"
   ]
  },
  {
   "cell_type": "code",
   "execution_count": null,
   "metadata": {},
   "outputs": [],
   "source": [
    "df.describe()"
   ]
  },
  {
   "cell_type": "code",
   "execution_count": null,
   "metadata": {},
   "outputs": [],
   "source": [
    "df.isnull().sum()"
   ]
  },
  {
   "cell_type": "markdown",
   "metadata": {},
   "source": [
    "**Опис даних**\n",
    "\n",
    "\n",
    "| Поле                      | Опис                                                                                     |\n",
    "|---------------------------|-------------------------------------------------------------------------------------------|\n",
    "| `datetime`                | Дата та час вимірювань. Періодичність 15 хв.                                             |\n",
    "| `power_actual`            | Фактична згенерована потужність за період. Діапазон від -32 до 12895.                     |\n",
    "| `limitation_actual`       | Фактичні обмеження вироблення енергії. Категорійна змінна. 1 - обмеження чи несправності. |\n",
    "| `ghi_actual`              | Фактичне загальне горизонтальне випромінювання. Діапазон від -10 до 894.                 |\n",
    "| `gti_actual`              | Фактичне загальне випромінювання на нахилену поверхню. Діапазон: від 0 до 1051.          |\n",
    "| `temperature_pv_actual`   | Фактична температура сонячних панелей в градусах Цельсія.                                 |\n",
    "| `cloud_cover_high`        | Прогнозована хмарність на великій висоті. Діапазон: від 0% до 100%.                      |\n",
    "| `cloud_cover_mid`         | Прогнозована хмарність на середній висоті. Діапазон: від 0% до 100%.                     |\n",
    "| `cloud_cover_low`         | Прогнозована хмарність на низькій висоті. Діапазон: від 0% до 100%.                      |\n",
    "| `dew_point_predict`       | Прогнозована точка роси. Діапазон від -18.58°C до 21.61°C. Середнє значення: 6.47°C.     |\n",
    "| `dni_predict`             | Прогнозоване пряме нормальне випромінювання. Діапазон: від 0 до 832.                     |\n",
    "| `ghi_predict`             | Прогнозоване загальне горизонтальне випромінювання. Діапазон від -10 до 894.             |\n",
    "| `gti_predict`             | Прогнозоване загальне випромінювання на нахилену поверхню. Діапазон: від 0 до 1051.      |\n",
    "| `humidity_predict`        | Прогнозована відносна вологість. Діапазон: від 24% до 100%.                              |\n",
    "| `pressure_air_predict`    | Прогнозований атмосферний тиск у гПа. Діапазон: від 946.85 до 995.18.                    |\n",
    "| `sunshine_predict`        | Прогнозована тривалість сонячного освітлення. Діапазон: від 0 до 900 хвилин.             |\n",
    "| `temperature_air_predict` | Прогнозована температура повітря в градусах Цельсія. Діапазон: від -17.85°C до 34.5°C.   |\n",
    "| `temperature_soil_predict`| Прогнозована температура ґрунту в градусах Цельсія. Діапазон: від -5.75°C до 32.65°C.    |\n",
    "| `visibility_predict`      | Прогнозована видимість у метрах. Діапазон: від 20 м до 50,000 м.                         |\n",
    "| `wind_direction_predict`  | Прогнозований напрямок вітру у градусах. Діапазон: від 0° до 360°.                       |\n",
    "| `wind_speed_predict`      | Прогнозована швидкість вітру. Діапазон: від 0 до 94.71 м/с.                              |\n",
    "| `weather_code_predict`    | Код погоди ВМО. Прогнозоване значення. Категорійна змінна.                               |\n",
    "\n",
    "\n",
    "Коди інтерпретації погоди ВМО (WW)\n",
    "| Код          | Опис                                           |\n",
    "|--------------|------------------------------------------------|\n",
    "| 0            | Ясне небо                                     |\n",
    "| 1, 2, 3      | Переважно ясно, хмарно з проясненнями, і повністю хмарно |\n",
    "| 45, 48       | Туман і паморозевий осадковий туман           |\n",
    "| 51, 53, 55   | Мряка: Легка, помірна і сильна інтенсивність  |\n",
    "| 56, 57       | Замерзаюча мряка: Легка і сильна інтенсивність |\n",
    "| 61, 63, 65   | Дощ: Невеликий, помірний і сильний            |\n",
    "| 66, 67       | Замерзаючий дощ: Легкий і сильний             |\n",
    "| 71, 73, 75   | Снігопад: Невеликий, помірний і сильний       |\n",
    "| 77           | Снігові зерна                                 |\n",
    "| 80, 81, 82   | Зливи дощу: Невеликі, помірні і дуже сильні   |\n",
    "| 85, 86       | Снігові зливи: Невеликі і сильні              |\n",
    "| 95           | Гроза: Невелика або помірна                  |\n",
    "| 96, 99       | Гроза з невеликим і сильним градом           |\n",
    "\n",
    "\n",
    "**Об'єм даних**\n",
    "\n",
    "Всього записів: 29 225\n",
    "\n",
    "\n",
    "**Пропущені значення**\n",
    "\n",
    "Кількість пропущених значень: ??? (?%)\n",
    "\n"
   ]
  },
  {
   "cell_type": "markdown",
   "metadata": {},
   "source": [
    "# Аналіз даних"
   ]
  },
  {
   "cell_type": "markdown",
   "metadata": {},
   "source": [
    "### Розподіли змінних"
   ]
  },
  {
   "cell_type": "code",
   "execution_count": null,
   "metadata": {},
   "outputs": [],
   "source": [
    "def plot_distribution(data, min_clip=-1, max_clip=-1, columns_per_row = 5):\n",
    "    num_rows = math.ceil(len(data.columns) / columns_per_row)\n",
    "\n",
    "    plt.figure(figsize=(13, 2 * num_rows))\n",
    "    for i, col in enumerate(data.columns):\n",
    "        plt.subplot(num_rows, columns_per_row, i + 1)\n",
    "        filter_data = data.copy()\n",
    "        min_value = data[col].min()\n",
    "        max_value = data[col].max()\n",
    "        delta = max_value - min_value\n",
    "\n",
    "        if min_clip >= 0:\n",
    "            filter_data = filter_data[filter_data[col] >= min_value + delta * min_clip]\n",
    "        if max_clip >= 0:\n",
    "            filter_data = filter_data[filter_data[col] <= max_value + delta * max_clip]\n",
    "\n",
    "        sns.histplot(filter_data[col], bins=25, kde=True)\n",
    "    plt.tight_layout()\n",
    "    plt.show()"
   ]
  },
  {
   "cell_type": "code",
   "execution_count": null,
   "metadata": {},
   "outputs": [],
   "source": [
    "df.columns"
   ]
  },
  {
   "cell_type": "code",
   "execution_count": null,
   "metadata": {},
   "outputs": [],
   "source": [
    "# \"ghi_actual\",\n",
    "numerical_cols = [\"power_actual\", \"gti_actual\",  \"temperature_air_actual\", \"temperature_pv_actual\",\n",
    "                  \"dni_predict\", \"gti_predict\", \"ghi_predict\", \"temperature_air_predict\", \"temperature_soil_predict\",\n",
    "                  \"dew_point_predict\", \"wind_speed_predict\", \"humidity_predict\", \"pressure_air_predict\", \"visibility_predict\", \n",
    "                  \"cloud_cover_high_predict\", \"cloud_cover_mid_predict\", \"cloud_cover_low_predict\", \"sunshine_predict\", \"wind_direction_predict\"\n",
    "                ]\n",
    "df_num = df[numerical_cols].clip(upper=power_max)\n",
    "plot_distribution(df_num, columns_per_row=5)"
   ]
  },
  {
   "cell_type": "code",
   "execution_count": null,
   "metadata": {},
   "outputs": [],
   "source": [
    "# розподіл при обмеженні min_clip\n",
    "plot_distribution(df_num, min_clip=0.01)"
   ]
  },
  {
   "cell_type": "code",
   "execution_count": null,
   "metadata": {},
   "outputs": [],
   "source": [
    "# обмежити генерацію 0 та power_max\n",
    "df_num = df_num[df_num['power_actual'] >= power_max*0.001]\n",
    "df_num.clip(upper=power_max)\n",
    "\n",
    "# видалити незаоповнені значення\n",
    "df_num = df_num.dropna()"
   ]
  },
  {
   "cell_type": "markdown",
   "metadata": {},
   "source": [
    "### Аналіз викидів"
   ]
  },
  {
   "cell_type": "code",
   "execution_count": null,
   "metadata": {},
   "outputs": [],
   "source": [
    "columns_per_row = 5\n",
    "num_rows = math.ceil(len(df_num.columns) / columns_per_row)\n",
    "\n",
    "plt.figure(figsize=(15, 2 * num_rows))\n",
    "for i, col in enumerate(df_num.columns):\n",
    "    plt.subplot(num_rows, columns_per_row, i + 1)\n",
    "    sns.boxplot(x=df_num[col])\n",
    "    plt.title(f\"{col}\")\n",
    "plt.tight_layout()\n",
    "plt.show()\n"
   ]
  },
  {
   "cell_type": "markdown",
   "metadata": {},
   "source": [
    "**Аналіз змінних**\n",
    "- `power`: Велика кількість викидів у верхньому кінці. Високі значення потужності, які зустрічаються рідко.\n",
    "Ще є кілька аномалій - значення вище потужності станції.\n",
    "- `cloud_cover_high`, `cloud_cover_mid`, `cloud_cover_low`: Викидів немає або їх дуже мало (розподіл значень в межах 0–100%).\n",
    "- `dew_point`: Невеликі викиди у нижньому кінці (значення нижче -10°C).\n",
    "- `dni`, `ghi`, `gti`: Значна кількість викидів у верхньому кінці - дуже високі показники сонячного випромінювання.\n",
    "- `humidity`: Викиди у нижньому кінці (нижче 40% вологості).\n",
    "- `pressure_air`: Викиди у верхньому кінці.\n",
    "- `sunshine`: Викиди відсутні, значення розподілені рівномірно.\n",
    "- `temperature_air`, `temperature_soil`: Невеликі викиди у нижньому кінці (температура нижче -10°C для повітря та нижче 0°C для ґрунту).\n",
    "- `visibility`: Значна кількість викидів у верхньому кінці (видимість понад 30,000 м).\n",
    "- `wind_direction`: Викиди практично відсутні, значення рівномірно розподілені в межах 0–360°.\n",
    "- `wind_speed`: Велика кількість викидів у верхньому кінці (швидкість понад 60 м/с).\n",
    " "
   ]
  },
  {
   "cell_type": "markdown",
   "metadata": {},
   "source": [
    "### Матриця кореляції"
   ]
  },
  {
   "cell_type": "code",
   "execution_count": null,
   "metadata": {},
   "outputs": [],
   "source": [
    "\n",
    "df_corr_matrix = df[numerical_cols]\n",
    "\n",
    "plt.figure(figsize=(15, 10))\n",
    "sns.heatmap(df_corr_matrix.corr(method=\"pearson\"), annot=True, cmap='coolwarm')\n",
    "plt.title('Матриця кореляції (pearson)', fontsize=16)\n",
    "plt.tight_layout()  \n",
    "plt.show()"
   ]
  },
  {
   "cell_type": "code",
   "execution_count": null,
   "metadata": {},
   "outputs": [],
   "source": [
    "df_corr_matrix = df[numerical_cols]\n",
    "\n",
    "plt.figure(figsize=(15, 10))\n",
    "sns.heatmap(df_corr_matrix.corr(method=\"spearman\"), annot=True, cmap='coolwarm')\n",
    "plt.title('Матриця кореляції (spearman)', fontsize=16)\n",
    "plt.tight_layout()  \n",
    "plt.show()"
   ]
  },
  {
   "cell_type": "markdown",
   "metadata": {},
   "source": [
    "Матриця кореляції ілюструє взаємозв'язки між різними метеорологічними показниками та цільовою змінною — генерацією електроенергії (power).\n",
    "\n",
    "Найсильніший позитивний зв’язок із цільовою змінною спостерігається для параметрів, пов’язаних із сонячним випромінюванням: DNI (0.77), GHI (0.84) і GTI (0.85), що свідчить про те, що інтенсивність сонячної радіації є ключовим фактором у процесі генерації електроенергії. Високий ступінь кореляції між цими показниками також вказує на їх сильну взаємозалежність, що свідчить про присутність мультиколінеарності. \n",
    "Температура повітря та ґрунту також мають позитивний вплив на генерацію, причому температура ґрунту (0.53) виявляється більш значущою порівняно з температурою повітря (0.42). Висока та середня хмарність (cloud_cover_high і cloud_cover_mid) негативно впливають на генерацію, тоді як низька хмарність (cloud_cover_low) має слабкіший негативний ефект. Це підтверджує, що хмарність знижує рівень сонячного випромінювання, що своєю чергою зменшує виробництво електроенергії. Вологість демонструє значну негативну кореляцію (-0.54), що пояснюється зменшенням проникності сонячної радіації при її зростанні.\n",
    "Швидкість вітру та атмосферний тиск, показують слабкий або помірний вплив. Швидкість вітру має слабку негативну кореляцію (-0.09), що свідчить про її незначний вплив на ефективність роботи сонячних панелей. Атмосферний тиск має майже нейтральний вплив із незначною позитивною кореляцією (0.08).\n",
    "\n",
    "Мультиколінеарність найбільш помітна серед параметрів, пов’язаних із сонячною радіацією. Високі кореляції між GHI, GTI та DNI можуть створювати проблеми надмірної залежності в моделі. Схожа ситуація спостерігається між температурами повітря і ґрунту (0.97), що свідчить про дублювання інформації.\n"
   ]
  },
  {
   "cell_type": "markdown",
   "metadata": {},
   "source": [
    "### Кореляційні графіки"
   ]
  },
  {
   "cell_type": "code",
   "execution_count": null,
   "metadata": {},
   "outputs": [],
   "source": [
    "plt.figure(figsize=(30, 30))\n",
    "scatter_matrix(df_num[numerical_cols].astype(float), alpha=0.5, diagonal=\"kde\", figsize=(30, 30))\n",
    "plt.show()"
   ]
  },
  {
   "cell_type": "markdown",
   "metadata": {},
   "source": [
    "Залежність між `power` та `gti` має чітко виражений тренд, але не є строго лінійною\n",
    "\n",
    "Спостерігається нверсна залежність між `power` і `humidity`\n",
    "\n",
    "\n",
    "Прослідковується слабка зворотна залежність між `temperature_air` і `pressure_air` (чіткий негативний нахил на діаграмі розсіювання)\n",
    "\n",
    "Спостерігається сильний зв’язок із позитивним трендом між `temperature_air` і `dew_point`\n",
    "\n",
    "Графік залежність між `gti` та `humidity` демонструє інверсну кореляцію. При низьких значеннях `gti` спостерігається широкий діапазон значень вологості `humidity`, але з переважно високою вологістю. При збільшенні `gti` вологість поступово знижується, показуючи явну негативну залежність. Ця залежність вказує на те, що більш інтенсивна сонячна радіація `gti` зазвичай супроводжується меншою вологістю\n"
   ]
  },
  {
   "cell_type": "code",
   "execution_count": null,
   "metadata": {},
   "outputs": [],
   "source": [
    "plt.figure(figsize=(15, 5))\n",
    "\n",
    "plt.subplot(1, 3, 1)\n",
    "plt.scatter(df_num['power_actual'], df_num['gti_actual'], alpha=0.2, edgecolor='k')\n",
    "plt.title(\"Power vs DTI actual\", fontsize=12)\n",
    "plt.xlabel(\"Power, kWt\", fontsize=12)\n",
    "plt.ylabel(\"DTI, Wt/m²\", fontsize=12)\n",
    "plt.grid(True, linestyle='--', alpha=0.2)\n",
    "\n",
    "plt.subplot(1, 3, 2) \n",
    "plt.scatter(df_num['power_actual'], df_num['gti_actual'], alpha=0.2, edgecolor='k')\n",
    "plt.title(\"Power vs GHI actual\", fontsize=12)\n",
    "plt.xlabel(\"Power, kWt\", fontsize=12)\n",
    "plt.ylabel(\"GHI, Wt/m²\", fontsize=12)\n",
    "plt.grid(True, linestyle='--', alpha=0.2)"
   ]
  },
  {
   "cell_type": "code",
   "execution_count": null,
   "metadata": {},
   "outputs": [],
   "source": [
    "plt.figure(figsize=(15, 5))\n",
    "\n",
    "plt.subplot(1, 3, 1)\n",
    "plt.scatter(df_num['power_actual'], df_num['gti_predict'], alpha=0.2, edgecolor='k')\n",
    "plt.title(\"Power vs DTI predict\", fontsize=12)\n",
    "plt.xlabel(\"Power, kWt\", fontsize=12)\n",
    "plt.ylabel(\"DTI, Wt/m²\", fontsize=12)\n",
    "plt.grid(True, linestyle='--', alpha=0.2)\n",
    "\n",
    "plt.subplot(1, 3, 2) \n",
    "plt.scatter(df_num['power_actual'], df_num['ghi_predict'], alpha=0.2, edgecolor='k')\n",
    "plt.title(\"Power vs GHI predict\", fontsize=12)\n",
    "plt.xlabel(\"Power, kWt\", fontsize=12)\n",
    "plt.ylabel(\"GHI, Wt/m²\", fontsize=12)\n",
    "plt.grid(True, linestyle='--', alpha=0.2)\n",
    "\n",
    "plt.subplot(1, 3, 3)\n",
    "plt.scatter(df_num['power_actual'], df_num['dni_predict'], alpha=0.2, edgecolor='k')\n",
    "plt.title(\"Power vs DNI predict\", fontsize=12)\n",
    "plt.xlabel(\"Power, kWt\", fontsize=12)\n",
    "plt.ylabel(\"DNI, Wt/m²\", fontsize=12)\n",
    "plt.grid(True, linestyle='--', alpha=0.2)\n",
    "\n",
    "plt.tight_layout()\n",
    "plt.show()\n"
   ]
  },
  {
   "cell_type": "code",
   "execution_count": null,
   "metadata": {},
   "outputs": [],
   "source": [
    "plt.figure(figsize=(15, 5))\n",
    "\n",
    "plt.subplot(1, 3, 1)\n",
    "plt.scatter(df_num['power_actual'], df_num['temperature_air_actual'], alpha=0.2, edgecolor='k')\n",
    "plt.title(\"Power vs Temperature_air actual\", fontsize=12)\n",
    "plt.xlabel(\"Power, kWt\", fontsize=12)\n",
    "plt.ylabel(\"Temperature_air, °C\", fontsize=12)\n",
    "plt.grid(True, linestyle='--', alpha=0.2)\n",
    "\n",
    "plt.subplot(1, 3, 2) \n",
    "plt.scatter(df_num['power_actual'], df_num['temperature_pv_actual'], alpha=0.2, edgecolor='k')\n",
    "plt.title(\"Power vs Temperature_pv actual\", fontsize=12)\n",
    "plt.xlabel(\"Power, kWt\", fontsize=12)\n",
    "plt.ylabel(\"Temperature_soil, °C\", fontsize=12)\n",
    "plt.grid(True, linestyle='--', alpha=0.2)\n",
    "\n",
    "plt.tight_layout()\n",
    "plt.show()"
   ]
  },
  {
   "cell_type": "code",
   "execution_count": null,
   "metadata": {},
   "outputs": [],
   "source": [
    "plt.figure(figsize=(15, 5))\n",
    "\n",
    "plt.subplot(1, 3, 1)\n",
    "plt.scatter(df_num['power_actual'], df_num['temperature_air_predict'], alpha=0.2, edgecolor='k')\n",
    "plt.title(\"Power vs Temperature_air\", fontsize=12)\n",
    "plt.xlabel(\"Power, kWt\", fontsize=12)\n",
    "plt.ylabel(\"Temperature_air, °C\", fontsize=12)\n",
    "plt.grid(True, linestyle='--', alpha=0.2)\n",
    "\n",
    "plt.subplot(1, 3, 2) \n",
    "plt.scatter(df_num['power_actual'], df_num['temperature_soil_predict'], alpha=0.2, edgecolor='k')\n",
    "plt.title(\"Power vs Temperature_soil\", fontsize=12)\n",
    "plt.xlabel(\"Power, kWt\", fontsize=12)\n",
    "plt.ylabel(\"Temperature_soil, °C\", fontsize=12)\n",
    "plt.grid(True, linestyle='--', alpha=0.2)\n",
    "\n",
    "plt.subplot(1, 3, 3) \n",
    "plt.scatter(df_num['power_actual'], df_num['humidity_predict'], alpha=0.2, edgecolor='k')\n",
    "plt.title(\"Power vs Humidity\", fontsize=12)\n",
    "plt.xlabel(\"Power, kWt\", fontsize=12)\n",
    "plt.ylabel(\"Humidity, %\", fontsize=12)\n",
    "plt.grid(True, linestyle='--', alpha=0.2)\n",
    "\n",
    "plt.tight_layout()\n",
    "plt.show()"
   ]
  },
  {
   "cell_type": "markdown",
   "metadata": {},
   "source": [
    "### Колеограма"
   ]
  },
  {
   "cell_type": "code",
   "execution_count": null,
   "metadata": {},
   "outputs": [],
   "source": [
    "lags_list = [96/2, 96, 96*7]\n",
    "\n",
    "fig, axes = plt.subplots(1, len(lags_list), figsize=(18, 6), sharey=True)\n",
    "\n",
    "for i, lags in enumerate(lags_list):\n",
    "    plot_acf(df.dropna()[\"power_actual\"], lags=lags, ax=axes[i])\n",
    "    axes[i].set_title(f\"Колеограма (lags={lags})\")\n",
    "    axes[i].grid(True)\n",
    "\n",
    "plt.tight_layout()\n",
    "plt.show()"
   ]
  },
  {
   "cell_type": "markdown",
   "metadata": {},
   "source": [
    "**Характеристики автокориляційної функції (ACF)**\n",
    "\n",
    "- Автокореляція з лагом 1: Значення ряду на поточному кроці тісно пов’язане зі значенням попереднього кроку, що є типовою ознакою часових рядів. Початкові лаги (від 0 до 10) мають високу позитивну кореляцію.\n",
    "- Тренд зменшення автокореляції: На графіку видно, як автокореляція зменшується з кожним лагом. Спад сигналу означає, що є сильна залежність між близькими часовими точками, яка поступово зникає з ростом лагу.\n",
    "- Циклічність: Чітко видно періодичну структуру з повторюваними хвилями.  Максимуми та мінімуми чергуються, що вказує на регулярні зміни в генерації електроенергії. Висота максимумів і мінімумів зберігається досить стабільною. Амплітуда автокореляції поступово трохи зменшується, але хвилі залишаються чітко видимими при більших лагах.\n",
    "\n",
    "\n",
    "**Інтерпретація**\n",
    "\n",
    "Сильна автокореляція на малих лагах свідчить про те що останні значення мають значний вплив на майбутні.\n",
    "Періодична структура ACF свідчить про наявність регулярного повторюваного патерну в даних. Чергування максимумі/мінімумів з періодом ~100 вказує на регулярні зміни в генерації електроенергії - цикли по 96 записів на добу. \n"
   ]
  },
  {
   "cell_type": "markdown",
   "metadata": {},
   "source": [
    "### Фазові портрети"
   ]
  },
  {
   "cell_type": "markdown",
   "metadata": {},
   "source": [
    "#### Аналіз прямої автокореляції"
   ]
  },
  {
   "cell_type": "code",
   "execution_count": null,
   "metadata": {},
   "outputs": [],
   "source": [
    "# Аналіз прямої автокореляції\n",
    "# Зв'язок між значеннями змінної на різних кроках x(k) та x(k−lag)\n",
    "\n",
    "lags = [1, 2, 8]\n",
    "df_numeric = df_num.select_dtypes(include=[\"number\"])\n",
    "columns = df_numeric.columns\n",
    "\n",
    "for column in columns:\n",
    "    fig, axes = plt.subplots(1, len(lags), figsize=(len(lags)*4, 4), sharey=True)\n",
    "    \n",
    "    for i, lag in enumerate(lags):\n",
    "        axes[i].plot(df_num[column][lag:], df_num[column][:-lag], linestyle=\"-\", color=\"blue\", alpha=0.5)\n",
    "        axes[i].set_title(f\"{column} (lag={lag})\")\n",
    "        axes[i].set_xlabel(\"x(k)\")\n",
    "        axes[i].set_ylabel(f\"x(k-{lag})\")\n",
    "        axes[i].grid(True)\n",
    "    \n",
    "    plt.tight_layout()\n",
    "    plt.suptitle(\"\", fontsize=16)\n",
    "    plt.show()\n"
   ]
  },
  {
   "cell_type": "markdown",
   "metadata": {},
   "source": [
    "##### Автокореляція power\n",
    "- **x(k) і 𝑥(𝑘−1)**\n",
    "Точки не концентруються навколо чіткої діагональної лінії, а утворюють значну ширину. Це свідчить про слабку кореляцію між сусідніми значеннями x(k) і x(k−1). Такий графік є ознакою високого рівня шуму в даних або значних варіацій між сусідніми значеннями.  Загальна форма графіка містити натяк на тренд або нелінійну залежність.\n",
    "\n",
    "- **x(k) і 𝑥(𝑘−2)**\n",
    "Відсутність чіткої структури між x(k) і x(k−2). Точки мають значне розсіювання і покривають мажевсб площину грайфіка. Суттєве ослаблення автокореляції.\n"
   ]
  },
  {
   "cell_type": "markdown",
   "metadata": {},
   "source": [
    "#### Аналіз динаміки змін у часовому ряді"
   ]
  },
  {
   "cell_type": "code",
   "execution_count": null,
   "metadata": {},
   "outputs": [],
   "source": [
    "# Аналіз динаміки змін у часовому ряді або нестабільності даних\n",
    "# Аналіз зміни значень (x(k)−x(k−lag)) відносно значень x(k) для різних лагів\n",
    "\n",
    "lags = [1, 2, 8]  # Масив лагів\n",
    "\n",
    "# Обираємо числові колонки\n",
    "df_numeric = df_num.select_dtypes(include=[\"number\"])\n",
    "\n",
    "columns = df_numeric.columns\n",
    "# columns = ['power_actual']\n",
    "\n",
    "# Проходимо по всіх числових колонках\n",
    "for column_name in columns:\n",
    "    # Створюємо фігуру з підграфіками для кожної колонки\n",
    "    fig, axes = plt.subplots(1, len(lags), figsize=(18, 6), sharey=True)\n",
    "    \n",
    "    # Проходимо по всіх лагах\n",
    "    for i, lag in enumerate(lags):\n",
    "        # Обчислюємо прирости з урахуванням лагу\n",
    "        df_diff = df_numeric.diff(lag)\n",
    "        \n",
    "        # Будуємо фазовий портрет на відповідному підграфіку\n",
    "        axes[i].plot(df_numeric[column_name][lag:], df_diff[column_name][lag:], linestyle=\"-\", color=\"blue\", alpha=0.5)\n",
    "        axes[i].set_title(f\"lag = {lag}\")\n",
    "        axes[i].set_xlabel(f\"x(k)\")\n",
    "        if i == 0:  # Лише для першого графіка додаємо загальну позначку осі y\n",
    "            axes[i].set_ylabel(f\"x(k) - x(k-{lag})\")\n",
    "        axes[i].grid(True)\n",
    "    \n",
    "    # Додаємо заголовок для всієї фігури\n",
    "    fig.suptitle(f\"{column_name}\", fontsize=16)\n",
    "    plt.tight_layout()\n",
    "    plt.show()"
   ]
  },
  {
   "cell_type": "markdown",
   "metadata": {},
   "source": [
    "##### Кореляція змін power\n",
    "- **x(k)−x(k−1) (Lag = 1)**\n",
    "Точки утворюють діагональну структуру зі значним розсіюванням. Це означає, що сусідні значення змінюються досить плавно, але в межах широкого діапазону. Графік виглядає симетрично щодо осі x(k)−x(k−1)=0, що свідчить про відсутність значного систематичного зміщення у змінах.\n"
   ]
  },
  {
   "cell_type": "markdown",
   "metadata": {},
   "source": [
    "### Часові ряди"
   ]
  },
  {
   "cell_type": "code",
   "execution_count": null,
   "metadata": {},
   "outputs": [],
   "source": [
    "df_series = df.copy()\n",
    "\n",
    "df_series['datetime'] = pd.to_datetime(df_series['datetime'])\n",
    "df_series.set_index(\"datetime\", inplace=True)\n",
    "\n",
    "plt.figure(figsize=(15, 20))\n",
    "cols = [\"power_actual\", \"gti_actual\"]\n",
    "for i, col in enumerate(cols):\n",
    "    plt.subplot(5, 1, i + 1)\n",
    "    plt.plot(df_series.index, df_series[col], label=col, alpha=0.7)\n",
    "    plt.title(f\"Time Series of {col}\")\n",
    "    plt.xlabel(\"Datetime\")\n",
    "    plt.ylabel(col)\n",
    "    plt.legend()\n",
    "    plt.xticks(rotation=45)\n",
    "    plt.grid(axis=\"both\", linestyle=\"--\", alpha=0.7)\n",
    "    plt.tight_layout()\n",
    "\n",
    "plt.show()"
   ]
  },
  {
   "cell_type": "code",
   "execution_count": null,
   "metadata": {},
   "outputs": [],
   "source": [
    "df_series = df.copy()\n",
    "\n",
    "df_series['datetime'] = pd.to_datetime(df_series['datetime'])\n",
    "df_series.set_index(\"datetime\", inplace=True)\n",
    "\n",
    "plt.figure(figsize=(15, 20))\n",
    "cols = [\"power_actual\", \"gti_predict\", \"ghi_predict\", \"dni_predict\"]\n",
    "for i, col in enumerate(cols):\n",
    "    plt.subplot(5, 1, i + 1)\n",
    "    plt.plot(df_series.index, df_series[col], label=col, alpha=0.7)\n",
    "    plt.title(f\"Time Series of {col}\")\n",
    "    plt.xlabel(\"Datetime\")\n",
    "    plt.ylabel(col)\n",
    "    plt.legend()\n",
    "    plt.xticks(rotation=45)\n",
    "    plt.grid(axis=\"both\", linestyle=\"--\", alpha=0.7)\n",
    "    plt.tight_layout()\n",
    "\n",
    "plt.show()"
   ]
  },
  {
   "cell_type": "markdown",
   "metadata": {},
   "source": [
    "#### datetime"
   ]
  },
  {
   "cell_type": "code",
   "execution_count": null,
   "metadata": {},
   "outputs": [],
   "source": [
    "df['datetime'] = pd.to_datetime(df['datetime'])"
   ]
  },
  {
   "cell_type": "markdown",
   "metadata": {},
   "source": [
    "#### limitation"
   ]
  },
  {
   "cell_type": "code",
   "execution_count": null,
   "metadata": {},
   "outputs": [],
   "source": [
    "# Замінюємо NaN на 0 в колонці \"limitation\"\n",
    "df[\"limitation_actual\"] = df[\"limitation_actual\"].fillna(0)"
   ]
  },
  {
   "cell_type": "markdown",
   "metadata": {},
   "source": [
    "#### power"
   ]
  },
  {
   "cell_type": "code",
   "execution_count": null,
   "metadata": {},
   "outputs": [],
   "source": [
    "# обмеження значень потужності по максимальній потужності станції \n",
    "df['power_acual'] = df['power_actual'].clip(lower=0, upper=power_max)"
   ]
  },
  {
   "cell_type": "code",
   "execution_count": null,
   "metadata": {},
   "outputs": [],
   "source": [
    "\n",
    "if drop_invalid_values:\n",
    "    # видалення невалідних значень\n",
    "    df = df.dropna(subset=['power_actual'])\n",
    "else:\n",
    "    # додати маску для записів, які потрібно виключити з навчання моделі\n",
    "    df['power_actual'] = df['power_actual'].where((~df['power_actual'].isna()) & (df['limitation_actual'] != 1), -999)"
   ]
  },
  {
   "cell_type": "markdown",
   "metadata": {},
   "source": [
    "### Класифікація кодів погоди\n",
    "\n",
    "Коди погоди можна згрупувати за їхнім впливом на сонячну радіацію:\n",
    "- Ясна погода (мінімальний вплив):\n",
    "    Коди: 0 (ясне небо)\n",
    "    Вплив: Максимальна сонячна генерація.\n",
    "\n",
    "- Хмарність (середній вплив):\n",
    "    Коди: 1, 2, 3 (різні ступені хмарності)\n",
    "    Вплив: Залежить від щільності хмарності\n",
    "    \n",
    "- Часточки в атмосфері (сильний вплив):\n",
    "    Коди: 45, 48 (туман, паморозевий туман)\n",
    "    Вплив: Значне зниження радіації через розсіювання\n",
    "\n",
    "- Опади (критичний вплив):\n",
    "    Мряка: 51, 53, 55\n",
    "    Дощ: 61, 63, 65, 80, 81, 82\n",
    "    Замерзаючий дощ: 66, 67\n",
    "    Снігопад: 71, 73, 75, 85, 86\n",
    "    Снігові зерна: 77\n",
    "    Грози: 95, 96, 99\n",
    "    Вплив: Значне зниження генерації через щільні хмари і опади"
   ]
  },
  {
   "cell_type": "markdown",
   "metadata": {},
   "source": [
    "# Створення моделей"
   ]
  },
  {
   "cell_type": "markdown",
   "metadata": {},
   "source": [
    "### Обробка даних"
   ]
  },
  {
   "cell_type": "code",
   "execution_count": null,
   "metadata": {},
   "outputs": [],
   "source": [
    "# Завантаження даних з прогнозними меткопараметрами\n",
    "df_predict = pd.read_csv(f'../Data/{data_name_predict}.csv', sep=',', comment='#', low_memory=False)\n",
    "\n",
    "# Виключення колонок 'power' та 'limitation', якщо вони є\n",
    "df_predict = df_predict[[col for col in df_predict.columns if col not in ['power', 'limitation']]]\n",
    "# Перейменування колонок\n",
    "df_predict = df_predict.rename(columns={col: f\"{col}_predict\" for col in df_predict.columns if col != 'datetime'})\n",
    "\n",
    "\n",
    "# Завантаження даних з фактичними даними аотужності\n",
    "df_actual = pd.read_csv(f'../Data/{data_name_actual}.csv', sep=',', comment='#', low_memory=False)\n",
    "df_actual = df_actual.rename(columns={col: f\"{col}_actual\" for col in df_actual.columns if col != 'datetime'})\n",
    "\n",
    "df = pd.DataFrame()\n",
    "df = pd.merge(df_actual, df_predict, on='datetime', how='outer', suffixes=('_actual', '_predict'))\n",
    "\n",
    "df.columns"
   ]
  },
  {
   "cell_type": "code",
   "execution_count": null,
   "metadata": {},
   "outputs": [],
   "source": [
    "df['datetime'] = pd.to_datetime(df['datetime'], format='mixed', errors='coerce')"
   ]
  },
  {
   "cell_type": "code",
   "execution_count": null,
   "metadata": {},
   "outputs": [],
   "source": [
    "# обмеження значень по максимальній потужності станції \n",
    "df['power_acual'] = df['power_actual'].clip(lower=0, upper=power_max)"
   ]
  },
  {
   "cell_type": "code",
   "execution_count": null,
   "metadata": {},
   "outputs": [],
   "source": [
    "# Видалення невалідних записів при обмеження генерації\n",
    "df[\"limitation_actual\"] = df[\"limitation_actual\"].fillna(0)\n",
    "df = df[df['limitation_actual'] == 0]\n",
    "df.drop(columns=['limitation_actual'], inplace=True)\n",
    "\n",
    "# Видалення невалідних значень потужності\n",
    "df = df.dropna(subset=['power_actual'])"
   ]
  },
  {
   "cell_type": "markdown",
   "metadata": {},
   "source": [
    "### Розрахунок метрик"
   ]
  },
  {
   "cell_type": "code",
   "execution_count": null,
   "metadata": {},
   "outputs": [],
   "source": [
    "# Розрахунок метрик\n",
    "def evaluate_data(_forecast, _actual, _power_max=0, _print_metrics=False):\n",
    "\n",
    "        # _actual = np.where(_actual == 0, 1e-8, _actual)\n",
    "    \n",
    "        if _power_max == 0:\n",
    "            _power_max = np.max(_actual)\n",
    "\n",
    "        tae = np.sum(np.abs(_forecast - _actual))\n",
    "\n",
    "        mae = mean_absolute_error(_actual, _forecast)\n",
    "        mae_max = (mae / _power_max) * 100\n",
    "\n",
    "        ape_koef = 0.1\n",
    "        mask = _actual > ape_koef * _power_max\n",
    "        if np.any(mask):\n",
    "            ape_filtered = np.mean(np.abs((_forecast[mask] - _actual[mask]) / _actual[mask])) * 100\n",
    "        else:\n",
    "            ape_filtered = np.nan\n",
    "\n",
    "        mape = mean_absolute_percentage_error(_actual, _forecast) * 100\n",
    "        mape_max = np.mean(np.abs((_forecast - _actual) / _power_max)) * 100  \n",
    "\n",
    "        def symmetric_mean_absolute_percentage_error(actual, forecast):\n",
    "            numerator = np.abs(actual - forecast)\n",
    "            denominator = (np.abs(actual) + np.abs(forecast)) / 2\n",
    "            smape = np.mean(numerator / denominator) * 100\n",
    "            return smape\n",
    "        smape = symmetric_mean_absolute_percentage_error(_actual, _forecast)\n",
    "\n",
    "        mse = mean_squared_error(_actual, _forecast)\n",
    "\n",
    "        rmse = np.sqrt(mse)\n",
    "        rmse_max = np.sqrt(mse) / _power_max * 100\n",
    "\n",
    "        r2 = r2_score(_actual, _forecast)\n",
    "        ev = explained_variance_score(_actual, _forecast)\n",
    "\n",
    "        bias = np.mean(_forecast - _actual) / _power_max * 100\n",
    "\n",
    "        msle = mean_squared_log_error(_actual - np.min(_actual) + 1,\n",
    "                                      _forecast - np.min(_forecast) + 1)\n",
    "        try:\n",
    "            pcc, _ = pearsonr(_actual - np.min(_actual) + 1,\n",
    "                              _forecast - np.min(_forecast) + 1)\n",
    "        except ValueError: pcc = np.nan\n",
    "\n",
    "        metrics = {\n",
    "            \"TAE\": tae,\n",
    "            \"MAE\": mae,\n",
    "            \"MAE(max)\": mae_max,\n",
    "            \"MSE\": mse,\n",
    "            \"R2\": r2,\n",
    "            \"MSLE\": msle,\n",
    "            \"Bias\": bias,\n",
    "            \"APE\": ape_filtered,\n",
    "            \"MAPE\": mape,\n",
    "            \"MAPE(max)\": mape_max,\n",
    "            \"sMAPE\": smape,\n",
    "            \"RMSE\": rmse,\n",
    "            \"RMSE(max)\": rmse_max,\n",
    "            \"EV\": ev,\n",
    "            \"PCC\": pcc\n",
    "        }\n",
    "\n",
    "        if _print_metrics:\n",
    "            for key, value in metrics.items():\n",
    "                print(f\"{key}: {value:.3f}\")\n",
    "\n",
    "        return metrics"
   ]
  },
  {
   "cell_type": "markdown",
   "metadata": {},
   "source": [
    "Метрики прогнозу\n",
    "\n",
    "- `Generation` - агальний обсяг реальної генерації енергії.\n",
    "- `Prediction` - загальний обсяг прогнозованої генерації енергії.\n",
    "- `TAE (Total Absolute Error)` - загальна похибка між реальними та прогнозованими значеннями.\n",
    "- `APE (Absolute Percentage Error)` - відносна похибка, що показує відхилення прогнозу від реальної генерації у відсотках. `APE = (TAE / Generation) * 100`\n",
    "- `Bias` - нормалізоване зміщення прогнозу. Пояснює систематичне відхилення між прогнозом і реальністю. `Bias = mean((generation - prediction) / generation) * 100`\n",
    "`Bias > 0`, модель переоцінює значення (прогноз вище реального), `Bias < 0` - модель має негативне зміщення, недооцінює значення (прогноз нижче реального).\n",
    "- `MAE (Mean Absolute Error)` - середня абсолютна помилка. Середнє абсолютне відхилення прогнозу від реальних даних. `MAE = mean(|generation - prediction|)`\n",
    "- `MAPE (Mean Absolute Percentage Error)` - середня абсолютна похибка у відсотках. `MAPE = mean(|(generation - prediction) / generation|) * 100`\n",
    "- `MAE (mean)` - MAE відносно середньої генерації. `MAE (mean) = (MAE / mean(generation)) * 100`\n",
    "- `MAE (max)` - MAE відносно максимальної генерації. `MAE (max) = (MAE / max(generation)) * 100`\n",
    "- `MSE (Mean Squared Error)` - середньоквадратична похибка. `MSE = mean((generation - prediction)^2)`. Чутлива до великих відхилень похибка.\n",
    "- `RMSE (Root Mean Squared Error)` - корінь середньоквадратичної похибки. `RMSE = sqrt(MSE)`. Пояснює середнє відхилення прогнозу від реальних даних.\n",
    "- `RMSE (mean)` - RMSE відносно середньої генерації. `RMSE (mean) = (RMSE / mean(generation)) * 100`\n",
    "- `RMSE (max)` - RMSE відносно максимальної генерації. `RMSE (max) = (RMSE / max(generation)) * 100`\n",
    "- `R2 (Coefficient of Determination)` - Коефіцієнт детермінації. `R2 = 1 - (sum((generation - prediction)^2) / sum((generation - mean(generation))^2))`. Якість відповідності прогнозу фактичним даним.\n",
    "- `EV (Explained Variance)` - пояснена дисперсія. `EV = 1 - (variance(generation - prediction) / variance(generation))`. Показує наскільки добре модель пояснює варіації фактичними даних.\n",
    "- `MSLE (Mean Squared Logarithmic Error)` - середньоквадратична логарифмічна похибка. `MSLE = mean((log(generation + 1) - log(prediction + 1))^2)`. Відносна похибка з урахуванням логарифмічної шкали.\n",
    "- `PCC (Pearson Correlation Coefficient)` - коефіцієнт кореляції Пірсона. `PCC = cov(generation, prediction) / (std(generation) * std(prediction))`. Лінійна залежність між прогнозом і фактичними даними.\n"
   ]
  },
  {
   "cell_type": "markdown",
   "metadata": {},
   "source": [
    "### Відображення даних"
   ]
  },
  {
   "cell_type": "code",
   "execution_count": null,
   "metadata": {},
   "outputs": [],
   "source": [
    "# Відображення кількох часових рядів на одному графіку\n",
    "def plot_multiple_time_series(df, cols, start_date=None, end_date=None, title=\"Часовий ряд\", figsize=(15, 10), grid=True):\n",
    "\n",
    "    # Фільтр за діапазоном дат\n",
    "    if start_date or end_date:\n",
    "        filtered_df = df.loc[start_date:end_date]\n",
    "    else:\n",
    "        filtered_df = df\n",
    "\n",
    "    plt.figure(figsize=figsize)\n",
    "    for col in cols:\n",
    "        plt.plot(filtered_df.index, filtered_df[col], label=col, alpha=0.7)\n",
    "    \n",
    "    plt.title(title)\n",
    "    plt.xlabel(\"Datetime\")\n",
    "    plt.ylabel(\"Value\")\n",
    "    plt.legend()\n",
    "    plt.xticks(rotation=45)\n",
    "    if grid:\n",
    "        plt.grid(axis=\"both\", linestyle=\"--\", alpha=0.7)\n",
    "    plt.tight_layout()\n",
    "    plt.show()"
   ]
  },
  {
   "cell_type": "code",
   "execution_count": null,
   "metadata": {},
   "outputs": [],
   "source": [
    "def plot_multiple_time_series_split(df, columns=['power_actual', 'prediction_actual'], plot_period='9D', start_date=None, end_date=None):\n",
    "\n",
    "    if columns is None:\n",
    "        columns = df.columns.drop('datetime')\n",
    "        \n",
    "    # Перетворення datetime у DataFrame до tz-naive (без часового поясу)\n",
    "    df[\"datetime\"] = pd.to_datetime(df[\"datetime\"]).dt.tz_localize(None)\n",
    "\n",
    "    # Перевіряємо, чи передані start_date і end_date, і встановлюємо їх за замовчуванням, якщо не передані\n",
    "    if start_date is None:\n",
    "        start_date = pd.to_datetime(df[\"datetime\"].min())\n",
    "    else:\n",
    "        start_date = pd.to_datetime(start_date).tz_localize(None)\n",
    "\n",
    "    if end_date is None:\n",
    "        end_date = pd.to_datetime(df[\"datetime\"].max())\n",
    "    else:\n",
    "        end_date = pd.to_datetime(end_date).tz_localize(None)\n",
    "\n",
    "    # Фільтруємо дані на основі start_date і end_date\n",
    "    df = df[(df[\"datetime\"] >= start_date) & (df[\"datetime\"] <= end_date)]\n",
    "\n",
    "    # Якщо plot_period дорівнює '', будуємо один графік для всього діапазону\n",
    "    if plot_period == '':\n",
    "        plt.figure(figsize=(30, 6))\n",
    "        for i, column in enumerate(columns):\n",
    "            if i == 0:  # Перша колонка\n",
    "                plt.plot(df[\"datetime\"], df[column], label=column, linewidth=3, color='black')\n",
    "            else:\n",
    "                plt.plot(df[\"datetime\"], df[column], label=column)\n",
    "        \n",
    "        plt.title(f'Data Visualization: {start_date.date()} - {end_date.date()}')\n",
    "        plt.xlabel('Time Steps')\n",
    "        plt.ylabel('Values')\n",
    "        plt.legend()\n",
    "        plt.show()\n",
    "        return\n",
    "\n",
    "    # Розбиваємо на інтервали, якщо plot_period не порожній\n",
    "    date_ranges = pd.date_range(start=start_date, end=end_date, freq=plot_period)\n",
    "\n",
    "    # Додаємо останній день (якщо потрібно)\n",
    "    if date_ranges[-1] < end_date:\n",
    "        date_ranges = date_ranges.append(pd.DatetimeIndex([end_date]))\n",
    "\n",
    "    # Виводимо графіки для кожного інтервалу\n",
    "    for i in range(len(date_ranges) - 1):\n",
    "        # Фільтруємо дані для поточного інтервалу\n",
    "        filtered_df = df[\n",
    "            (df[\"datetime\"] >= date_ranges[i]) & \n",
    "            (df[\"datetime\"] < date_ranges[i + 1])\n",
    "        ]\n",
    "        \n",
    "        # Створюємо графік\n",
    "        plt.figure(figsize=(30, 6))\n",
    "        for j, column in enumerate(columns):\n",
    "            if j == 0:  # Перша колонка\n",
    "                plt.plot(filtered_df[\"datetime\"], filtered_df[column], label=column, linewidth=3, color='black')\n",
    "            else:\n",
    "                plt.plot(filtered_df[\"datetime\"], filtered_df[column], label=column)\n",
    "        \n",
    "        plt.title(f'Data Visualization: {date_ranges[i].date()} - {date_ranges[i+1].date()}')\n",
    "        plt.xlabel('Time Steps')\n",
    "        plt.ylabel('Values')\n",
    "        plt.legend()\n",
    "        plt.show()\n"
   ]
  },
  {
   "cell_type": "code",
   "execution_count": null,
   "metadata": {},
   "outputs": [],
   "source": [
    "def plot_loss(history, title = f'Training and Validation Loss'):\n",
    "    plt.figure(figsize=(5, 3))\n",
    "    plt.plot(history.history['loss'], label='Training Loss')\n",
    "    plt.plot(history.history['val_loss'], label='Validation Loss')\n",
    "    plt.xlabel('Epochs')\n",
    "    plt.ylabel('Loss (MSE)')\n",
    "    plt.title(title)\n",
    "    plt.legend()\n",
    "    plt.grid(True)\n",
    "    plt.show()"
   ]
  },
  {
   "cell_type": "markdown",
   "metadata": {},
   "source": [
    "## LSTM "
   ]
  },
  {
   "cell_type": "markdown",
   "metadata": {},
   "source": [
    "### Обробка даних"
   ]
  },
  {
   "cell_type": "code",
   "execution_count": null,
   "metadata": {},
   "outputs": [],
   "source": [
    "df.columns\n",
    "df"
   ]
  },
  {
   "cell_type": "markdown",
   "metadata": {},
   "source": [
    "### Створення ознак"
   ]
  },
  {
   "cell_type": "code",
   "execution_count": null,
   "metadata": {},
   "outputs": [],
   "source": [
    "# Конвертувати datetime у об'єкт datetime бібліотеки pandas\n",
    "df[\"datetime\"] = pd.to_datetime(df[\"datetime\"], utc=True)\n",
    "\n",
    "# Виділити день і годину для трансформацій синуса та косинуса\n",
    "df[\"hour\"] = df[\"datetime\"].dt.hour\n",
    "df[\"day\"] = df[\"datetime\"].dt.dayofyear\n",
    "df[\"hour_sin\"] = np.sin(2 * np.pi * df[\"hour\"] / 24)\n",
    "df[\"hour_cos\"] = np.cos(2 * np.pi * df[\"hour\"] / 24)\n",
    "df[\"day_sin\"] = np.sin(2 * np.pi * df[\"day\"] / 365.25)\n",
    "df[\"day_cos\"] = np.cos(2 * np.pi * df[\"day\"] / 365.25)"
   ]
  },
  {
   "cell_type": "code",
   "execution_count": null,
   "metadata": {},
   "outputs": [],
   "source": [
    "# Розрахунок висоти сонця [apparent_elevation_predict]\n",
    "def calculate_apparent_elevation(row):\n",
    "    solar_position = pvlib.solarposition.get_solarposition(\n",
    "        time=row['datetime'],\n",
    "        latitude=latitude,\n",
    "        longitude=longitude,\n",
    "    )\n",
    "    return max(solar_position['apparent_elevation'].iloc[0],0)\n",
    "\n",
    "df['apparent_elevation_predict'] = df.apply(calculate_apparent_elevation, axis=1)\n",
    "df['is_night_predict'] = df['apparent_elevation_predict'] <= 0"
   ]
  },
  {
   "cell_type": "markdown",
   "metadata": {},
   "source": [
    "### Підготовка даних для навчання"
   ]
  },
  {
   "cell_type": "code",
   "execution_count": null,
   "metadata": {},
   "outputs": [],
   "source": [
    "features_train = [\n",
    "       'power_actual',\n",
    "       \n",
    "       # 'gti_actual',\n",
    "       # 'ghi_actual',\n",
    "\n",
    "       # 'temperature_air_actual',\n",
    "       # 'temperature_pv_actual',\n",
    "\n",
    "       'gti_predict',\n",
    "       'ghi_predict',\n",
    "       'dni_predict',\n",
    "\n",
    "       'temperature_air_predict',\n",
    "       'temperature_soil_predict',\n",
    "\n",
    "       'cloud_cover_high_predict',\n",
    "       'cloud_cover_low_predict',\n",
    "       'cloud_cover_mid_predict',\n",
    "       \n",
    "       'dew_point_predict',\n",
    "       'humidity_predict',\n",
    "       'pressure_air_predict',\n",
    "       'sunshine_predict',\n",
    "       'visibility_predict',\n",
    "       'wind_speed_predict',\n",
    "       'wind_direction_predict',\n",
    "       'weather_code_predict',\n",
    "\n",
    "       'hour_sin',\n",
    "       'hour_cos',\n",
    "       'day_sin',\n",
    "       'day_cos',\n",
    "       'apparent_elevation_predict',\n",
    "       'is_night_predict',\n",
    "       ]"
   ]
  },
  {
   "cell_type": "code",
   "execution_count": null,
   "metadata": {},
   "outputs": [],
   "source": [
    "# features_train = [\n",
    "#        'power_actual',\n",
    "       \n",
    "#        'toa_predict','clear sky ghi_predict','clear sky bhi_predict','clear sky dhi_predict','clear sky bni_predict','ghi_predict','bhi_predict','dhi_predict','bni_predict',\n",
    "\n",
    "#        'hour_cos',\n",
    "#        'apparent_elevation_predict', 'is_night_predict',\n",
    "#        ]"
   ]
  },
  {
   "cell_type": "code",
   "execution_count": null,
   "metadata": {},
   "outputs": [],
   "source": [
    "df_train = df[features_train].copy()"
   ]
  },
  {
   "cell_type": "code",
   "execution_count": null,
   "metadata": {},
   "outputs": [],
   "source": [
    "plt.figure(figsize=(15, 10))\n",
    "sns.heatmap(df_train.corr(method=\"spearman\"), annot=True, cmap='coolwarm')\n",
    "plt.title('Матриця кореляції (spearman)', fontsize=16)\n",
    "plt.tight_layout()  \n",
    "plt.show()"
   ]
  },
  {
   "cell_type": "code",
   "execution_count": null,
   "metadata": {},
   "outputs": [],
   "source": [
    "df_train.dropna(inplace=True)"
   ]
  },
  {
   "cell_type": "code",
   "execution_count": null,
   "metadata": {},
   "outputs": [],
   "source": [
    "df_train"
   ]
  },
  {
   "cell_type": "code",
   "execution_count": null,
   "metadata": {},
   "outputs": [],
   "source": [
    "df_train.columns"
   ]
  },
  {
   "cell_type": "code",
   "execution_count": null,
   "metadata": {},
   "outputs": [],
   "source": [
    "# Вибрані ознаки\n",
    "feature_columns = [col for col in df_train.columns if col != \"power_actual\"]\n",
    "\n",
    "# feature_columns = ['gti', 'temperature_air', 'humidity', 'apparent_elevation', 'is_night', 'hour_sin', 'hour_cos', 'day_sin', 'day_cos']\n",
    "# feature_columns = [col for col in feature_columns if col in df_train.columns]\n",
    "\n",
    "# Цільова змінна\n",
    "target_column = 'power_actual'\n",
    "\n",
    "# Вибірка даних для моделі\n",
    "# Перша колонка - цільова змінна power, інші - ознаки\n",
    "df_train = df_train[[target_column] + feature_columns]"
   ]
  },
  {
   "cell_type": "code",
   "execution_count": null,
   "metadata": {},
   "outputs": [],
   "source": [
    "# Розділення даних на навчальну та тестову вибірки\n",
    "split_ratio = 0.8\n",
    "sequence_length = 4\n",
    "forecast_steps = 4\n",
    "\n",
    "split_index = int(len(df_train) * split_ratio)\n",
    "data_train = df_train.iloc[:split_index]\n",
    "data_test = df_train.iloc[split_index:]"
   ]
  },
  {
   "cell_type": "code",
   "execution_count": null,
   "metadata": {},
   "outputs": [],
   "source": [
    "# Масштабування даних для навчання моделей\n",
    "\n",
    "scaler = MinMaxScaler()\n",
    "data_train_scaled = scaler.fit_transform(data_train)\n",
    "data_test_scaled = scaler.transform(data_test)\n",
    "\n",
    "def prepare_sequences(scaled_data, original_data, sequence_length, forecast_steps):\n",
    "    X, y, datetimes = [], [], []\n",
    "    for i in range(sequence_length, len(scaled_data) - forecast_steps + 1):\n",
    "        y.append(scaled_data[i:i+forecast_steps, 0])    # цільова змінна 'power_actual'\n",
    "        X.append(scaled_data[i-sequence_length:i, 1:])  # ознаки\n",
    "        datetimes.append(original_data.index[i+forecast_steps-1])\n",
    "    return np.array(X), np.array(y), datetimes\n",
    "\n",
    "\n",
    "X_train, y_train, datetimes_train = prepare_sequences(data_train_scaled, data_train, sequence_length, forecast_steps)\n",
    "print(f\"Length of X_train: {len(X_train)}\")\n",
    "print(f\"Length of y_train: {len(y_train)}\")\n",
    "print(f\"Length of datetimes_train: {len(datetimes_train)}\")\n",
    "\n",
    "X_test, y_test, datetimes_test = prepare_sequences(data_test_scaled, data_test, sequence_length, forecast_steps)\n",
    "print(f\"Length of X_test: {len(X_test)}\")\n",
    "print(f\"Length of y_test: {len(y_test)}\")\n",
    "print(f\"Length of datetimes_test: {len(datetimes_test)}\")\n",
    "\n",
    "print(f\"X_train size: {len(X_train)}\")\n",
    "print(f\"X_test size: {len(X_test)}\")\n",
    "print(f\"Features ({len(feature_columns)}): {feature_columns}\")"
   ]
  },
  {
   "cell_type": "markdown",
   "metadata": {},
   "source": [
    "### Моделі"
   ]
  },
  {
   "cell_type": "code",
   "execution_count": null,
   "metadata": {},
   "outputs": [],
   "source": [
    "models_list = []"
   ]
  },
  {
   "cell_type": "code",
   "execution_count": null,
   "metadata": {},
   "outputs": [],
   "source": [
    "\n",
    "model_lstm = Sequential([\n",
    "    Input(shape=(X_train.shape[1], X_train.shape[2])),\n",
    " \n",
    "    LSTM(50, return_sequences=False),\n",
    "    Dense(forecast_steps)\n",
    "])\n",
    "model_lstm.compile(optimizer='nadam', loss=['mse'])\n",
    "models_list.append({\n",
    "    'name': \"lstm\",\n",
    "    'model': model_lstm,\n",
    "    'params': None,\n",
    "    'data': None,\n",
    "    'history': None,\n",
    "    'metrics': None\n",
    "})\n",
    "\n",
    "lstm_extended = Sequential([\n",
    "    Input(shape=(X_train.shape[1], X_train.shape[2])),\n",
    "    LSTM(\n",
    "        units=128,\n",
    "        activation='relu',\n",
    "        return_sequences=True,\n",
    "    ),\n",
    "    Dropout(0.1),\n",
    "    BatchNormalization(),\n",
    "    LSTM(\n",
    "        units=256,\n",
    "        activation='relu',\n",
    "        return_sequences=True,\n",
    "    ),\n",
    "    Dropout(0.1),\n",
    "    BatchNormalization(),\n",
    "    LSTM(\n",
    "        units=128,\n",
    "        activation='relu',\n",
    "        return_sequences=True,\n",
    "    ),\n",
    "    LSTM(50, return_sequences=False),\n",
    "    Dense(forecast_steps, activation='linear')\n",
    "])\n",
    "lstm_extended.compile(optimizer='adam', loss='mse', metrics=['mae', 'msle'])\n",
    "\n",
    "models_list.append({\n",
    "    'name': \"lstm_extended\",\n",
    "    'model': lstm_extended,\n",
    "    'params': None,\n",
    "    'data': None,\n",
    "    'history': None,\n",
    "    'metrics': None\n",
    "})"
   ]
  },
  {
   "cell_type": "markdown",
   "metadata": {},
   "source": [
    "### Гібридна модель CNN + LSTM"
   ]
  },
  {
   "cell_type": "code",
   "execution_count": null,
   "metadata": {},
   "outputs": [],
   "source": [
    "model_cnn_lstm = Sequential([\n",
    "\n",
    "    Input(shape=(X_train.shape[1], X_train.shape[2])),\n",
    "    \n",
    "    # CNN блок\n",
    "    Conv1D(filters=64, kernel_size=3, activation='relu', padding='same'),  # Додано padding='same'\n",
    "    Dropout(0.2),\n",
    "    \n",
    "    # Другий CNN блок\n",
    "    Conv1D(filters=64, kernel_size=3, activation='relu', padding='same'),\n",
    "    Dropout(0.2),\n",
    "    \n",
    "    Reshape((-1, 64)),  # -1 визначає розмір автоматично, 64 — кількість фільтрів з CNN\n",
    "    \n",
    "    # LSTM блок\n",
    "    LSTM(50, return_sequences=True),\n",
    "    Dropout(0.1),\n",
    "    LSTM(50, return_sequences=True),\n",
    "    Dropout(0.1),\n",
    "    LSTM(50, return_sequences=False),\n",
    "    Dropout(0.1),\n",
    "    \n",
    "    # Fully Connected Layers\n",
    "    Dense(25, activation='relu'),\n",
    "    Dense(forecast_steps)\n",
    "])\n",
    "\n",
    "# Компіляція моделі\n",
    "model_cnn_lstm.compile(optimizer='adam', loss='mse')\n",
    "\n",
    "models_list.append({\n",
    "    'name': \"cnn_lstm\",\n",
    "    'model': model_cnn_lstm,\n",
    "    'params': None,\n",
    "    'data': None,\n",
    "    'history': None,\n",
    "    'metrics': None\n",
    "})\n"
   ]
  },
  {
   "cell_type": "markdown",
   "metadata": {},
   "source": [
    "### Гібридна модела CNN + GRU"
   ]
  },
  {
   "cell_type": "code",
   "execution_count": null,
   "metadata": {},
   "outputs": [],
   "source": [
    "model_cnn_gru = Sequential([\n",
    "    Input(shape=(X_train.shape[1], X_train.shape[2])),\n",
    "    \n",
    "    # CNN блок\n",
    "    Conv1D(filters=64, kernel_size=3, activation='relu', padding='same'),  # Додано padding='same'\n",
    "    MaxPooling1D(pool_size=2, padding='same'),  # Щоб уникнути зменшення розміру до негативного\n",
    "    GRU(50, return_sequences=True),\n",
    "    Dropout(0.1),\n",
    "    GRU(50, return_sequences=False),\n",
    "    Dense(forecast_steps)\n",
    "])\n",
    "\n",
    "# Компіляція моделі\n",
    "model_cnn_gru.compile(optimizer='adam', loss='mse')\n",
    "\n",
    "models_list.append({\n",
    "    'name': \"cnn_gru\",\n",
    "    'model': model_cnn_gru,\n",
    "    'params': None,\n",
    "    'data': None,\n",
    "    'history': None,\n",
    "    'metrics': None\n",
    "})\n"
   ]
  },
  {
   "cell_type": "markdown",
   "metadata": {},
   "source": [
    "### Гібридна модела CNN + Transformer"
   ]
  },
  {
   "cell_type": "code",
   "execution_count": null,
   "metadata": {},
   "outputs": [],
   "source": [
    "# Побудова гібридної моделі CNN + Transformer\n",
    "\n",
    "# Вхідний шар\n",
    "inputs = Input(shape=(X_train.shape[1], X_train.shape[2]))\n",
    "\n",
    "# CNN частина\n",
    "x = Conv1D(filters=64, kernel_size=3, activation='relu')(inputs)\n",
    "x = MaxPooling1D(pool_size=2)(x)\n",
    "\n",
    "# Transformer частина\n",
    "# Для MultiHeadAttention потрібні query, key і value\n",
    "attn_output = MultiHeadAttention(num_heads=4, key_dim=64)(x, x)\n",
    "x = Flatten()(attn_output)\n",
    "\n",
    "# Повнозв'язний шар\n",
    "x = Dense(25, activation='relu')(x)\n",
    "outputs = Dense(1)(x)\n",
    "\n",
    "# Модель\n",
    "model_cnn_tranformers = Model(inputs=inputs, outputs=outputs)\n",
    "\n",
    "# Компіляція моделі\n",
    "model_cnn_tranformers.compile(optimizer='adam', loss='mse')\n",
    "\n",
    "models_list.append({\n",
    "    'name': \"cnn_tranformers\",\n",
    "    'model': model_cnn_tranformers,\n",
    "    'params': None,\n",
    "    'data': None,\n",
    "    'history': None,\n",
    "    'metrics': None\n",
    "})"
   ]
  },
  {
   "cell_type": "markdown",
   "metadata": {},
   "source": [
    "### Навчання моделей, прогнозування"
   ]
  },
  {
   "cell_type": "code",
   "execution_count": null,
   "metadata": {},
   "outputs": [],
   "source": [
    "for model_ in models_list:\n",
    "\n",
    "    model_name = model_['name']\n",
    "    print(f\"==> {model_name}\")\n",
    "    \n",
    "    model_object = model_['model']\n",
    "\n",
    "    # Тренування моделі\n",
    "    model_['history'] = model_object.fit(\n",
    "        X_train, y_train,\n",
    "        validation_data=(X_test, y_test),\n",
    "        epochs=32,\n",
    "        batch_size=32,\n",
    "        callbacks=[EarlyStopping(monitor='val_loss', patience=5, restore_best_weights=True)],\n",
    "        verbose=1)\n",
    "    \n",
    "    # Отримання прогнозованих значень\n",
    "    predictions = model_object.predict(X_test)\n",
    "\n",
    "    predictions_rescaled = []\n",
    "    y_test_rescaled = []\n",
    "\n",
    "    # Відновлення масштабу для тестових даних\n",
    "    n_features = scaler.n_features_in_    \n",
    "    y_test_rescaled = scaler.inverse_transform(\n",
    "        np.c_[y_test[:, 0], np.zeros((y_test.shape[0], n_features - 1))]\n",
    "    )[:, 0]\n",
    "\n",
    "    # Відновлення масштабу для прогнозу\n",
    "    forecast_rescaled = scaler.inverse_transform(\n",
    "        np.c_[predictions[:, 0], np.zeros((predictions.shape[0], n_features - 1))]\n",
    "    )[:, 0]\n",
    "\n",
    "    # Створення DataFrame з відновленими даними\n",
    "    results_df = pd.DataFrame({\n",
    "        \"datetime\": datetimes_test,\n",
    "        \"power_actual\": y_test_rescaled,\n",
    "        \"power_predict\": forecast_rescaled\n",
    "    })\n",
    "\n",
    "    model_['data'] = results_df.copy()\n",
    "\n",
    "    # Розрахунок метрик\n",
    "    model_['metrics'] = evaluate_data(model_['data']['power_actual'], model_['data']['power_predict'], _power_max=power_max, _print_metrics=True)"
   ]
  },
  {
   "cell_type": "markdown",
   "metadata": {},
   "source": [
    "### Криві навчання"
   ]
  },
  {
   "cell_type": "code",
   "execution_count": null,
   "metadata": {},
   "outputs": [],
   "source": [
    "for model_object in models_list:\n",
    "    plot_loss(model_object['history'], title = f'Training and Validation Loss for {model_object['name']}')"
   ]
  },
  {
   "cell_type": "markdown",
   "metadata": {},
   "source": [
    "### Оцінка метрик"
   ]
  },
  {
   "cell_type": "code",
   "execution_count": null,
   "metadata": {},
   "outputs": [],
   "source": [
    "for model in models_list:\n",
    "    model['metrics']['Модель'] = model.get('name')\n",
    "\n",
    "# Вибір колонок для виводу\n",
    "selected_columns = [\"Модель\", \"APE\", \"MAE(max)\", \"RMSE(max)\", \"R2\", \"MSLE\", \"Bias\", \"EV\", \"PCC\"]\n",
    "\n",
    "# Формування даних для таблиці\n",
    "metrics_array = [\n",
    "    {key: model['metrics'][key] for key in selected_columns if key in model['metrics']}\n",
    "    for model in models_list\n",
    "]\n",
    "\n",
    "# Створення таблиці та округлення\n",
    "metrics_table = pd.DataFrame(metrics_array)\n",
    "metrics_table = metrics_table.round(2)\n",
    "metrics_table.set_index('Модель', inplace=True)\n",
    "metrics_table['Рейтиг'] = metrics_table[['APE', 'MAE(max)', 'RMSE(max)']].sum(axis=1).rank(ascending=True)\n",
    "\n",
    "# Відображення таблиці\n",
    "display(metrics_table.sort_values(by='Рейтиг'))"
   ]
  },
  {
   "cell_type": "markdown",
   "metadata": {},
   "source": [
    "### Часові ряди"
   ]
  },
  {
   "cell_type": "code",
   "execution_count": null,
   "metadata": {},
   "outputs": [],
   "source": [
    "# Відображення часових рядів\n",
    "def plot_series(_data, _columns, _title=\"Фактична і Прогнозована потужність\", _metrics=None, _split_days=0):\n",
    "\n",
    "    # Дата-час може бути в індексі або в колонці \"datetime\"\n",
    "    if \"datetime\" in _data.columns:\n",
    "        datetime_col = _data[\"datetime\"]\n",
    "    else:\n",
    "        datetime_col = _data.index\n",
    "\n",
    "    start_index = 0\n",
    "    end_index = len(_data)\n",
    "    data_plot = _data.iloc[start_index:end_index].copy()\n",
    "    datetime_col_plot = datetime_col[start_index:end_index]\n",
    "\n",
    "    # Візуалізація графіків\n",
    "    plt.figure(figsize=(15, 5))\n",
    "    for col in _columns:\n",
    "        plt.plot(datetime_col_plot, data_plot[col[\"column\"]], label=col[\"label\"])\n",
    "    plt.title(f\"{_title}\")\n",
    "    \n",
    "    # Візуалізація метрик\n",
    "    metrics_text = \"\"\n",
    "    if _metrics is not None:\n",
    "        metrics_text = \"\\n\".join([\n",
    "            f'MAE(max) = {_metrics[\"MAE(max)\"]:.1f}%',\n",
    "            f'MAPE(max) = {_metrics[\"MAPE(max)\"]:.1f}%',\n",
    "            f'MAPE(max) = {_metrics[\"MAPE(max)\"]:.1f}%',            \n",
    "            f'R2 = {_metrics[\"R2\"]:.3f}',\n",
    "            f'MSLE = {_metrics[\"MSLE\"]:.3f}',\n",
    "            f'Bias = {_metrics[\"Bias\"]:.1f}',\n",
    "            # f'APE = {_metrics[\"APE\"]:.2f}%',\n",
    "            # f'sMAPE = {_metrics[\"MAPE\"]:.1e}',\n",
    "            # f'EV = {_metrics[\"EV\"]:.3f}',\n",
    "            # f'PCC = {_metrics[\"PCC\"]:.3f}'\n",
    "        ])\n",
    "        \n",
    "    plt.legend(loc='upper left', title=metrics_text)\n",
    "    \n",
    "    plt.grid(True)\n",
    "    plt.show()\n",
    "\n",
    "    # Візуалізація графіків по частинах\n",
    "    if _split_days > 0:\n",
    "        data_len = len(_data)\n",
    "        days_in_step = _split_days * 24 * 4\n",
    "        for i in range(0, data_len, days_in_step):\n",
    "            data_chunk = _data.iloc[i:i + days_in_step]\n",
    "            datetime_chunk = datetime_col.iloc[i:i + days_in_step]\n",
    "\n",
    "            plt.figure(figsize=(15, 5))\n",
    "            for col in _columns:\n",
    "                plt.plot(datetime_chunk, data_chunk[col[\"column\"]], label=col[\"label\"])\n",
    "            plt.title(f\"{_title} - Інтервал {i // days_in_step + 1}\")\n",
    "            plt.legend(loc='upper left')\n",
    "            plt.grid(True)\n",
    "            plt.show()\n"
   ]
  },
  {
   "cell_type": "code",
   "execution_count": null,
   "metadata": {},
   "outputs": [],
   "source": [
    "for model_ in models_list:\n",
    "  \n",
    "    # Оцінка прогнозу і візуалізація часовових рядів потужності\n",
    "    print(f\"\\n\\n==> {model_['name']}\\n\")\n",
    "    plot_series(_data=model_['data'],\n",
    "                _columns=  [{\"column\": \"power_actual\", \"label\": \"Факт\", \"power_max\": 0},\n",
    "                            {\"column\": \"power_predict\", \"label\": \"Прогноз\", \"power_max\": 0}],\n",
    "                _title=f\"Фактична і Прогнозована потужність ({model_['name']})\",\n",
    "                _metrics=model_['metrics'],\n",
    "                )\n",
    "   "
   ]
  }
 ],
 "metadata": {
  "kernelspec": {
   "display_name": "venv",
   "language": "python",
   "name": "python3"
  },
  "language_info": {
   "codemirror_mode": {
    "name": "ipython",
    "version": 3
   },
   "file_extension": ".py",
   "mimetype": "text/x-python",
   "name": "python",
   "nbconvert_exporter": "python",
   "pygments_lexer": "ipython3",
   "version": "3.12.7"
  }
 },
 "nbformat": 4,
 "nbformat_minor": 2
}
